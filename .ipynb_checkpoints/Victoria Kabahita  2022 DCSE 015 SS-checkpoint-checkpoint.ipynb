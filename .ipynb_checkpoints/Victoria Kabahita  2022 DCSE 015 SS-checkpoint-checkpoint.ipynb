{
 "cells": [
  {
   "cell_type": "markdown",
   "id": "fdf4749e",
   "metadata": {},
   "source": [
    "## TEST Preamble:\n",
    "\n",
    "This test assignment, has two sections *Probability Theory & Linear Algebra*, Probability is the mathematical field that enables us to quantify uncertainty as well as to make predictions despite uncertainty. While *Linear Algebra is basically Matrix and Vector Operations*, that builds on the basics of linear algebra as learned in theory. \n"
   ]
  },
  {
   "cell_type": "markdown",
   "id": "7f65e89d",
   "metadata": {},
   "source": [
    "## Instructions\n",
    "\n",
    "* Your are to free to setup your own Jupyter Notebook, and supply all the answers to the questions inthere or work from the one I have provided.\n",
    "* Attempt all questions in **Section 1** and **At least 4** from **Section 2**, and as many as you can from the last section **optional Section**"
   ]
  },
  {
   "cell_type": "markdown",
   "id": "3cce027d",
   "metadata": {},
   "source": [
    "## By Assessing the context and questions in this test assignment"
   ]
  },
  {
   "cell_type": "markdown",
   "id": "32d1d308",
   "metadata": {},
   "source": [
    "Import all the relevant libraries you may need in the course of this assignment"
   ]
  },
  {
   "cell_type": "code",
   "execution_count": 1,
   "id": "0d400224",
   "metadata": {},
   "outputs": [],
   "source": [
    "# import all the neccessary libraries needed (Max 2.5 marks allowed)\n",
    "import numpy as np\n",
    "import matplotlib as plt\n",
    "import pandas as pd\n",
    "import scipy.stats as stats"
   ]
  },
  {
   "cell_type": "markdown",
   "id": "331968bd",
   "metadata": {},
   "source": [
    "## Section 1: Introduction to Probability"
   ]
  },
  {
   "cell_type": "markdown",
   "id": "cbc5b95b",
   "metadata": {},
   "source": [
    "### What Probability Theory Is! "
   ]
  },
  {
   "cell_type": "markdown",
   "id": "033f2579",
   "metadata": {},
   "source": [
    "### Here below is a quick review of probability and Combinatorial. Go through carefully and pick a leaf to answer the questions at the end"
   ]
  },
  {
   "cell_type": "markdown",
   "id": "9f8c7b7c",
   "metadata": {},
   "source": [
    "#### Events and Sample Spaces"
   ]
  },
  {
   "cell_type": "markdown",
   "id": "4eac3dee",
   "metadata": {},
   "source": [
    "Let's assume we have a fair coin, which is equally likely to come up heads (H) or tails (T)."
   ]
  },
  {
   "cell_type": "markdown",
   "id": "9cb67e60",
   "metadata": {},
   "source": [
    "In instances like this, where the two outcomes are equally likely, we can use probability theory to express the likelihood of a particular **event** by comparing it with the **sample space** (the set of all possible outcomes; can be denoted as $\\Omega$): "
   ]
  },
  {
   "cell_type": "markdown",
   "id": "c5332bd2",
   "metadata": {},
   "source": [
    "$$ P(\\text{event}) = \\frac{\\text{# of outcomes of event}}{\\text{# of outcomes in }\\Omega} $$"
   ]
  },
  {
   "cell_type": "markdown",
   "id": "78943c65",
   "metadata": {},
   "source": [
    "If we're only flipping the coin once, then there are only two possible outcomes in the sample space $\\Omega$: it will either be H or T (using set notation, we could write this as $\\Omega$ = {H, T})."
   ]
  },
  {
   "cell_type": "markdown",
   "id": "b786fd87",
   "metadata": {},
   "source": [
    "Therefore: $$ P(H) = \\frac{1}{2} = 0.5 $$"
   ]
  },
  {
   "cell_type": "markdown",
   "id": "725833cc",
   "metadata": {},
   "source": [
    "Equally: $$ P(T) = \\frac{1}{2} = 0.5 $$"
   ]
  },
  {
   "cell_type": "markdown",
   "id": "cb2c8415",
   "metadata": {},
   "source": [
    "As a separate example, consider drawing a single card from a standard deck of 52 playing cards. In this case, the number of possible outcomes in the sample space $\\Omega$ is 52. "
   ]
  },
  {
   "cell_type": "markdown",
   "id": "56ead33e",
   "metadata": {},
   "source": [
    "There is only one ace of spades in the deck, so the probability of drawing it is: $$ P(\\text{ace of spades}) = \\frac{1}{52} \\approx 0.019 $$"
   ]
  },
  {
   "cell_type": "markdown",
   "id": "1b4b52a5",
   "metadata": {},
   "source": [
    "In contrast there are four aces, so the probability of drawing an ace is: $$ P(\\text{ace}) = \\frac{4}{52} \\approx 0.077 $$"
   ]
  },
  {
   "cell_type": "markdown",
   "id": "720fe7d5",
   "metadata": {},
   "source": [
    "Some additional examples: \n",
    "$$ P(\\text{spade}) = \\frac{13}{52} = 0.25 $$\n",
    "$$ P(\\text{ace OR spade}) = \\frac{16}{52} \\approx 0.307 $$\n",
    "$$ P(\\text{card}) = \\frac{52}{52} = 1 $$\n",
    "$$ P(\\text{turnip}) = \\frac{0}{52} = 0 $$"
   ]
  },
  {
   "cell_type": "markdown",
   "id": "81c4a306",
   "metadata": {},
   "source": [
    "#### Multiple Independent Observations"
   ]
  },
  {
   "cell_type": "markdown",
   "id": "fba9c9d9",
   "metadata": {},
   "source": [
    "Let's return to coin flipping to illustrate situations where we have an event consisting of multiple independent observations. For example, the probability of throwing two consecutive heads is: $$ P(\\text{HH}) = \\frac{1}{4} = 0.25 $$ ...because there is one HH event in the sample set of four possible events ($\\Omega$ = {HH, HT, TH, TT})."
   ]
  },
  {
   "cell_type": "markdown",
   "id": "d07bb2bf",
   "metadata": {},
   "source": [
    "Likewise, the probability of throwing *three* consecutive heads is: $$ P(\\text{HHH}) = \\frac{1}{8} = 0.125 $$ ...because there is one HHH event in the sample set of eight possible events ($\\Omega$ = {HHH, HHT, HTH, THH, HTT, THT, TTH, TTT})."
   ]
  },
  {
   "cell_type": "markdown",
   "id": "ff63365e",
   "metadata": {},
   "source": [
    "As final examples, the probability of throwing exactly two heads in three tosses is $ P = \\frac{3}{8} = 0.375 $ while the probability of throwing at least two heads in three tosses is $ P = \\frac{4}{8} = 0.5 $."
   ]
  },
  {
   "cell_type": "markdown",
   "id": "4bff124b",
   "metadata": {},
   "source": [
    "#### Combining Probabilities"
   ]
  },
  {
   "cell_type": "markdown",
   "id": "5361b160",
   "metadata": {},
   "source": [
    "In order to combine probabilities, we can multiply them. So the probability of throwing five consecutive heads, for example, is the product of probabilities we've already calculated: $$ P(\\text{HHHHH}) = P(\\text{HH}) \\times P(\\text{HHH}) = \\frac{1}{4} \\times \\frac{1}{8} = \\frac{1}{32} \\approx 0.031 $$"
   ]
  },
  {
   "cell_type": "markdown",
   "id": "b7b3cd28",
   "metadata": {},
   "source": [
    "#### Combinatorics"
   ]
  },
  {
   "cell_type": "markdown",
   "id": "fb4596aa",
   "metadata": {},
   "source": [
    "*Combinatorics* is a field of mathematics devoted to counting that can be helpful to studying probabilities. We can use **factorials** (e.g., $4! = 4 \\times 3 \\times 2 \\times 1 = 24$), which feature prominently in combinatorics, to calculate probabilities instead of painstakingly determining all of the members of the sample space $\\Omega$ and counting subsets within $\\Omega$. "
   ]
  },
  {
   "cell_type": "markdown",
   "id": "d2cb1b7a",
   "metadata": {},
   "source": [
    "More specifically, we can calculate the number of outcomes of an event using the \"number of combinations\" equation: $$ {n \\choose k} = \\frac{n!}{k!(n - k)!} $$"
   ]
  },
  {
   "cell_type": "markdown",
   "id": "5feaf74b",
   "metadata": {},
   "source": [
    "The left-hand side of the equation is read \"$n$ choose $k$\" and is most quickly understood via an example: If we have three coin flips, $n = 3$, and if we're interested in the number of ways to get two head flips (or two tail flips, for that matter), $k = 2$. We would read this as \"3 choose 2\" and calculate it as:\n",
    "$$ {n \\choose k} = {3 \\choose 2} = \\frac{3!}{2!(3 - 2)!} = \\frac{3!}{(2!)(1!)} = \\frac{3 \\times 2 \\times 1}{(2 \\times 1)(1)} = \\frac{6}{(2)(1)} = \\frac{6}{2} = 3 $$"
   ]
  },
  {
   "cell_type": "markdown",
   "id": "f992ea9a",
   "metadata": {},
   "source": [
    "This provide us with the numerator for event-probability equation from above: $$ P(\\text{event}) = \\frac{\\text{# of outcomes of event}}{\\text{# of outcomes in }\\Omega} $$"
   ]
  },
  {
   "cell_type": "markdown",
   "id": "76376509",
   "metadata": {},
   "source": [
    "In the case of coin-flipping (or any binary process with equally probable outcomes), the denominator can be calculated with $2^n$ (where $n$ is again the number of coin flips), so: $$ \\frac{\\text{# of outcomes of event}}{\\text{# of outcomes in }\\Omega} = \\frac{3}{2^n} = \\frac{3}{2^3} = \\frac{3}{8} = 0.375 $$"
   ]
  },
  {
   "cell_type": "markdown",
   "id": "3d91021a",
   "metadata": {},
   "source": [
    "## Multiple Choice Exercises: Calculate and Select your best solution (Each Question is one Mark)\n",
    "\n",
    "1. What is the probability of drawing the ace of spades twice in a row? (Assume that any card drawn on the first draw will be put back in the deck before the second draw.)\n",
    "\n",
    "A. 0.037%\n",
    "\n",
    "B. 0.050%\n",
    "\n",
    "C. 0.010%\n",
    "\n",
    "D. 0.100%\n",
    "\n",
    "2. You draw a card from a deck of cards. After replacing the drawn card back in the deck and shuffling thoroughly, what is the probability of drawing the same card again? \n",
    "\n",
    " A. 0.010\n",
    " \n",
    " B. 0.018\n",
    " \n",
    " C. 0.081\n",
    " \n",
    " D. 0.019\n",
    "\n",
    "3. Use $n \\choose k$ to calculate the probability of throwing three heads in five coin tosses.\n",
    "\n",
    "A. 0.3125\n",
    "\n",
    "B. 0.5210\n",
    "\n",
    "C. 0.3100\n",
    "\n",
    "D. 0.2135\n",
    "\n",
    "4.  Which of the following Expressions below correspond to the statement: **the probability that it is Monday given that it is raining**?\n",
    "\n",
    "A. Pr(Monday|rain)\n",
    "\n",
    "B. Pr(rain|Monday)\n",
    "\n",
    "C. Pr(rain|Monday)Pr(Monday)\n",
    "\n",
    "D. Pr(Monday|rain) Pr(rain)/Pr(Monday)\n",
    "\n",
    "5. Which of the following Expressions below correspond to the statement: **Pr(Monday|rain)**?\n",
    "\n",
    "A. The Probability of rain on Monday\n",
    "\n",
    "B. The Probability of rain given that it is Monday\n",
    "\n",
    "C. The Probability that it is Monday, given that it is raining\n",
    "\n",
    "D. The probability that it is Monday and that it is raining\n",
    "\n",
    "6. Which of the following Expressions below correspond to the statement: **the probability of rain on Monday**?\n",
    "\n",
    "A. Pr(rain)\n",
    "\n",
    "B. Pr(rain|Monday)\n",
    "\n",
    "C. Pr(Monday|rain)\n",
    "\n",
    "D. Pr(rain, Monday)/Pr(Monday)\n",
    "\n",
    "7. A professor thinks students who live on campus are more likely to get **A**s in the probability course. To check this theory, the professor combines the data from the past few years. 600 students have taken the course, 120 students have gotten As, 200 students lived on campus, 80 students lived off campus and got As.\n",
    "\n",
    "A. Pr(AnB) = Pr(A)+Pr(B)\n",
    "\n",
    "B. Pr(AnB) = Pr(A) * Pr(B) - Pr(AnB)\n",
    "\n",
    "C. Pr(AnB) = Pr(A) * Pr(B)\n",
    "\n",
    "D. Pr(AnB) = (Pr(A) * Pr(B))/(Pr(B))\n",
    "\n",
    "8. Does this data suggest that \"getting an A\" and \"living on campus\" are dependent or independent?  \n",
    " \n",
    " A. Agree\n",
    " \n",
    " B. Disagree\n",
    " \n",
    " C. Neutral \n",
    " \n",
    " D. Insufficient Information provided\n",
    "\n",
    "9. Suppose that I want to purchase a smart phone. I can choose either a large or a small screen; a 64GB, 128GB, or 256GB storage capacity, and a black or white cover. \n",
    "\n",
    "(a).How many different options do I have?\n",
    "\n",
    " A. 13\n",
    " \n",
    " B. 0\n",
    " \n",
    " C. 9/10 \n",
    " \n",
    " D. Insufficient Information provided\n",
    " \n",
    " 10. A block of 100 bits is trasmitted in a binary channel with a probability of bit error **P= 0.002**\n",
    "\n",
    "(a) If the block has 1 or fewer errors,then the receiver accepts the block. What is the **probability** that the block is accepted?\n",
    "\n",
    "A. 0.735\n",
    "\n",
    "B. 0.501\n",
    "\n",
    "C. 0.350\n",
    "\n",
    "D. 0.100\n",
    "\n",
    "(b) If the block has more that 1 errors, then the block is retrasmitted.\n",
    "What is the **probability** that 4 blocks are trasmitted?\n",
    "\n",
    "(1) 0.013\n",
    "\n",
    "(2) 0.0350\n",
    "\n",
    "(3) 0.430\n",
    "\n",
    "(4) 0.500\n"
   ]
  },
  {
   "cell_type": "markdown",
   "id": "2dd4874a",
   "metadata": {},
   "source": [
    "Number 1; A "
   ]
  },
  {
   "cell_type": "markdown",
   "id": "75988a25",
   "metadata": {},
   "source": [
    "Number 2; D"
   ]
  },
  {
   "cell_type": "markdown",
   "id": "1f3ab04f",
   "metadata": {},
   "source": [
    "Number 3; D"
   ]
  },
  {
   "cell_type": "markdown",
   "id": "7a049a55",
   "metadata": {},
   "source": [
    "Number 4; A"
   ]
  },
  {
   "cell_type": "markdown",
   "id": "6dcda6a8",
   "metadata": {},
   "source": [
    "Number 5; C"
   ]
  },
  {
   "cell_type": "markdown",
   "id": "57ac4ff1",
   "metadata": {},
   "source": [
    "Number 6; B"
   ]
  },
  {
   "cell_type": "markdown",
   "id": "3047dde6",
   "metadata": {},
   "source": [
    "Number 7; C"
   ]
  },
  {
   "cell_type": "markdown",
   "id": "9abce129",
   "metadata": {},
   "source": [
    "Number 8; A: The events are independent because the greater number of people who got A's did not live on campus."
   ]
  },
  {
   "cell_type": "markdown",
   "id": "9197ba91",
   "metadata": {},
   "source": [
    "Number 9; D: I have 12 options"
   ]
  },
  {
   "cell_type": "markdown",
   "id": "fb437f2f",
   "metadata": {},
   "source": [
    "## Section 2: Attemppt at least 4 Questions from this section"
   ]
  },
  {
   "cell_type": "markdown",
   "id": "522a0233",
   "metadata": {},
   "source": [
    "### Question 2: Moments of Probability : Expected Value"
   ]
  },
  {
   "cell_type": "markdown",
   "id": "073d63b2",
   "metadata": {},
   "source": [
    "**Exercises**:\n",
    "\n",
    "1. Assuming heads = 1 and tails = 0, what’s the expected value of the toss of a fair coin? \n",
    "2. ...and of two tosses of a fair coin? \n",
    "3. You are one of a thousand people to purchase a lottery ticket. The ticket costs \\\\$10 and pays out \\\\$5000. What value should you expect from this transaction? \n"
   ]
  },
  {
   "cell_type": "markdown",
   "id": "0d6e12b2",
   "metadata": {},
   "source": [
    "Number 1\n",
    "Answer; Ω  = {1, 0}\n",
    "........................."
   ]
  },
  {
   "cell_type": "markdown",
   "id": "6745bc34",
   "metadata": {},
   "source": [
    "Number 2\n",
    "Answer; Ω  = {11, 10, 01, 00}\n",
    "........................."
   ]
  },
  {
   "cell_type": "markdown",
   "id": "52ac7c8d",
   "metadata": {},
   "source": [
    "Number 3\n",
    "$4.01\n",
    "........................."
   ]
  },
  {
   "cell_type": "markdown",
   "id": "da44ac18",
   "metadata": {},
   "source": [
    "### Question 3: Probability Distributions\n",
    "\n",
    "### a). Binomial Distribution"
   ]
  },
  {
   "cell_type": "markdown",
   "id": "6ff29777",
   "metadata": {},
   "source": [
    "All distributions so far have been for continuous variables (PDFs). This one is discrete (PMF). \n",
    "\n",
    "We've already been using it for coin flips; it's used for binary (0 or 1) outcome. \n",
    "\n",
    "Its parameters are: \n",
    "\n",
    "* *n*: number of trials\n",
    "* *p*: probability of outcome of 1\n",
    "* *size*: number of experiments with *n* trials each"
   ]
  },
  {
   "cell_type": "code",
   "execution_count": 8,
   "id": "4a5fe8de",
   "metadata": {},
   "outputs": [],
   "source": [
    "# Given an experimental setup below\n",
    "\n",
    "n = 5\n",
    "n_experiments = 1000"
   ]
  },
  {
   "cell_type": "markdown",
   "id": "c3cc3d26",
   "metadata": {},
   "source": [
    "#### ... and that we are dealing with a Fair coin (p = 0.5), Then"
   ]
  },
  {
   "cell_type": "code",
   "execution_count": 10,
   "id": "b8ac537a",
   "metadata": {},
   "outputs": [],
   "source": [
    "heads_count = np.random.binomial(n, 0.5, n_experiments)\n",
    "heads, event_count = np.unique(heads_count, return_counts=True)\n",
    "event_proba = event_count/n_experiments"
   ]
  },
  {
   "cell_type": "code",
   "execution_count": 11,
   "id": "9fe230c4",
   "metadata": {},
   "outputs": [
    {
     "data": {
      "image/png": "[encoded data removed]",
      "text/plain": [
       "<Figure size 432x288 with 1 Axes>"
      ]
     },
     "metadata": {
      "needs_background": "light"
     },
     "output_type": "display_data"
    }
   ],
   "source": [
    "import matplotlib.pyplot as plt\n",
    "plt.bar(heads, event_proba, color='mediumpurple')\n",
    "plt.xlabel('Heads flips (out of 5 tosses)')\n",
    "_ = plt.ylabel('Event probability')"
   ]
  },
  {
   "cell_type": "markdown",
   "id": "fe3f3498",
   "metadata": {},
   "source": [
    "Then, Technically, binomial distributions are created by sampling $n>1$ \"Bernoulli trials\". The **Bernoulli** distribution is equivalent to the binomial distribution where $n=1$: "
   ]
  },
  {
   "cell_type": "markdown",
   "id": "1d068328",
   "metadata": {},
   "source": [
    "### and ..."
   ]
  },
  {
   "cell_type": "code",
   "execution_count": 4,
   "id": "761b425c",
   "metadata": {},
   "outputs": [
    {
     "data": {
      "text/plain": [
       "1"
      ]
     },
     "execution_count": 4,
     "metadata": {},
     "output_type": "execute_result"
    }
   ],
   "source": [
    "import numpy as np\n",
    "np.random.binomial(1, 0.5)"
   ]
  },
  {
   "cell_type": "markdown",
   "id": "07593c7e",
   "metadata": {},
   "source": [
    "Select **ALL** possible real-world examples of a binomial distribution basing on its key properties from the list below:\n",
    "\n",
    "* Making it to work on time\n",
    "* Candidate being invited to interview\n",
    "* Epidemiology: probability of death or catching disease\n",
    "* Number of new hires in a month\n",
    "* Extreme weather events, e.g., maximum rainfall in a day\n",
    "* Time between requests to access Wikipedia pages"
   ]
  },
  {
   "cell_type": "code",
   "execution_count": null,
   "id": "225a56c2",
   "metadata": {},
   "outputs": [],
   "source": [
    "## Supply your selections here."
   ]
  },
  {
   "cell_type": "markdown",
   "id": "4b73c918",
   "metadata": {},
   "source": [
    "## b). Poisson Distribution"
   ]
  },
  {
   "cell_type": "markdown",
   "id": "0a4eb102",
   "metadata": {},
   "source": [
    "**Poisson** is a third widely-used distribution for discrete random variables and it's the final distribution we'll cover."
   ]
  },
  {
   "cell_type": "markdown",
   "id": "50c84133",
   "metadata": {},
   "source": [
    "It's named after French mathematician Simeon Denis Poisson and is used for count data, e.g.: \n",
    "\n",
    "Select **ALL** possible real-world examples of a poisson distribution basing on its key properties from the list below:\n",
    "\n",
    "* Number of cars that drive by in a minute\n",
    "* Number of guests at restaurant in an evening\n",
    "* Number of new hires in a month\n",
    "* Child births in the national referral hospital on any particular day\n",
    "* The number of a jupyter notebook to run optimally"
   ]
  },
  {
   "cell_type": "code",
   "execution_count": null,
   "id": "6567781a",
   "metadata": {},
   "outputs": [],
   "source": [
    "## Supply your selections here."
   ]
  },
  {
   "cell_type": "markdown",
   "id": "1c3dcbf6",
   "metadata": {},
   "source": [
    "## c). Gaussian or Normal Distribution\n",
    "\n",
    "Gaussian or Normal distribution is a **standard normal distribution** (a.k.a., standard Gaussian distribution). Normal distributions can be denoted with the *math calligraphy* font as $\\mathcal{N}(\\mu, \\sigma^2)$, thus the standard normal distribution can be denoted as $\\mathcal{N}(0, 1)$. \n",
    "\n",
    "(N.B.: $\\sigma^2 = \\sigma$ in this case because $1^2 = 1$.)"
   ]
  },
  {
   "cell_type": "markdown",
   "id": "45e4cfe8",
   "metadata": {},
   "source": [
    "Normal distributions are by far the most common distribution in statistics and machine learning. They are typically the default option, particularly if you have limited information about the random process you're modeling, because: \n",
    "\n",
    "1. Normal distributions assume the greatest possible uncertainty about the random variable they represent (relative to any other distribution of equivalent variance). Details of this are beyond the scope of this tutorial. \n",
    "2. Simple and very complex random processes alike are, under all common conditions, normally distributed when we sample values from the process. Since we sample data for statistical and machine learning models alike, this so-called **central limit theorem** (covered next) is a critically important concept. "
   ]
  },
  {
   "cell_type": "markdown",
   "id": "57b171b9",
   "metadata": {},
   "source": [
    "Sellect **ALL** Possible real-world examples of a Gaussian Distribution basing on its characteristics: \n",
    "\n",
    "* Probability of heads across *n* tosses (PMF; $n = 5$ earlier, $n = 100$ below)\n",
    "* Sum of di(c)e rolls (PMF)\n",
    "* Height of adult women\n",
    "* Height of adult men\n",
    "* Education test scores, e.g., Mathematical Computing scores you will obtain today\n",
    "* Number of Children ever born \n",
    "* The Spread of COVID-19 disease in a given community"
   ]
  },
  {
   "cell_type": "code",
   "execution_count": null,
   "id": "81248c37",
   "metadata": {},
   "outputs": [],
   "source": [
    "## Supply your selections here."
   ]
  },
  {
   "cell_type": "markdown",
   "id": "c02638ee",
   "metadata": {},
   "source": [
    "# Linear Algebra"
   ]
  },
  {
   "cell_type": "markdown",
   "id": "e16cde38",
   "metadata": {},
   "source": [
    "*Review of Introductory Linear Algebra*\n",
    "\n",
    "* Modern Linear Algebra Applications\n",
    "* Tensors, Vectors, and Norms\n",
    "* Matrix Multiplication\n",
    "* Matrix Inversion\n",
    "* Identity, Diagonal and Orthogonal Matrices\n"
   ]
  },
  {
   "cell_type": "code",
   "execution_count": 33,
   "id": "76697a1f",
   "metadata": {},
   "outputs": [
    {
     "data": {
      "text/plain": [
       "array([1., 1., 1.])"
      ]
     },
     "execution_count": 33,
     "metadata": {},
     "output_type": "execute_result"
    }
   ],
   "source": [
    "# Setup: As an example\n",
    "\n",
    "import numpy as np\n",
    "\n",
    "y = np.ones(3) \n",
    "y"
   ]
  },
  {
   "cell_type": "markdown",
   "id": "580e24ee",
   "metadata": {},
   "source": [
    "### Question 4: Given an n-dim array with enteries: 25, 2, 5;"
   ]
  },
  {
   "cell_type": "markdown",
   "id": "ab348225",
   "metadata": {},
   "source": [
    "* 1. Generate a numpy array x from the given entries\n",
    "* 2. What is the shape of the array x\n",
    "* 3. What is its transpose\n",
    "* 4. Compute its $L^2$ Norm"
   ]
  },
  {
   "cell_type": "code",
   "execution_count": 30,
   "id": "19b40b2e",
   "metadata": {},
   "outputs": [
    {
     "name": "stdout",
     "output_type": "stream",
     "text": [
      "[25  2  5]\n"
     ]
    }
   ],
   "source": [
    "#number 1\n",
    "x = np.array([25, 2, 5])\n",
    "print(x)"
   ]
  },
  {
   "cell_type": "code",
   "execution_count": 28,
   "id": "c01f8530",
   "metadata": {},
   "outputs": [
    {
     "name": "stdout",
     "output_type": "stream",
     "text": [
      "(3,)\n"
     ]
    }
   ],
   "source": [
    "#number 2\n",
    "print(x.shape) # 1 row, 3 columns"
   ]
  },
  {
   "cell_type": "code",
   "execution_count": 29,
   "id": "b29effcd",
   "metadata": {},
   "outputs": [
    {
     "name": "stdout",
     "output_type": "stream",
     "text": [
      "[25  2  5]\n"
     ]
    }
   ],
   "source": [
    "#number 3\n",
    "print(x.T)"
   ]
  },
  {
   "cell_type": "code",
   "execution_count": 31,
   "id": "f42ce73a",
   "metadata": {},
   "outputs": [
    {
     "name": "stdout",
     "output_type": "stream",
     "text": [
      "25.573423705088842\n"
     ]
    }
   ],
   "source": [
    "#number 4\n",
    "print(np.linalg.norm(x,ord=2))"
   ]
  },
  {
   "cell_type": "markdown",
   "id": "9855e846",
   "metadata": {},
   "source": [
    "## Question 5: Given an n-darray X = np.array([[25, 2], [5, 26], [3, 7]])"
   ]
  },
  {
   "cell_type": "markdown",
   "id": "13efde54",
   "metadata": {},
   "source": [
    "* 1. Generate its shape\n",
    "* 2. What is the transpose of the array\n",
    "* 3. Generate a new n-darray of X scaled up by integer 3 (Hint: note that scalars are applied on each element of a matrix)\n",
    "* 4. Generate a new matrix A = ([[3, 4], [5, 6], [7, 8]]). Compute the matrix multiplication of matrices X and A (note the condition for matrix multiplication must satisfy a certain rule)\n",
    "* 5. Compute the inverse of the result of multiplication of matrices (A and X)"
   ]
  },
  {
   "cell_type": "code",
   "execution_count": 25,
   "id": "6e46d751",
   "metadata": {},
   "outputs": [
    {
     "name": "stdout",
     "output_type": "stream",
     "text": [
      "[[25  2]\n",
      " [ 5 26]\n",
      " [ 3  7]]\n",
      "(3, 2)\n",
      "........................\n",
      "[[25  5  3]\n",
      " [ 2 26  7]]\n",
      "........................\n",
      "[[75  6]\n",
      " [15 78]\n",
      " [ 9 21]]\n",
      "........................\n",
      "[[3 4]\n",
      " [5 6]\n",
      " [7 8]]\n",
      "........................\n",
      "[[ 83 137 191]\n",
      " [119 181 243]\n",
      " [ 37  57  77]]\n",
      "0.0\n"
     ]
    }
   ],
   "source": [
    "#number 1\n",
    "X = np.array([[25, 2], [5, 26], [3, 7]])\n",
    "print(X)\n",
    "print(X.shape) #3 rows, 2 columns\n",
    "print(\"........................\")\n",
    "\n",
    "#number 2\n",
    "print(X.T) #the rows become columns and the columns become rows\n",
    "print(\"........................\")\n",
    "\n",
    "#number 3\n",
    "print(X*3) #multiply each element by 3\n",
    "print(\"........................\")\n",
    "\n",
    "#number 4\n",
    "A = np.array([[3, 4], [5, 6], [7, 8]])\n",
    "print(A)\n",
    "print(\"........................\")\n",
    "\n",
    "#multiply X with the transpose of A; (m by n) * (n by p); result is; m by p\n",
    "Y = np.dot(X,A.T)\n",
    "print(Y) #resulting is a 3 by 3 matrix\n",
    "\n",
    "#number 5\n",
    "y = np.dot(A,X.T)\n",
    "print(np.linalg.det(y)) #since determinant is zero, we cannot get the inverse; it raises an error (singular matrix)"
   ]
  },
  {
   "cell_type": "code",
   "execution_count": null,
   "id": "432e619b",
   "metadata": {},
   "outputs": [],
   "source": []
  },
  {
   "cell_type": "code",
   "execution_count": null,
   "id": "438e363a",
   "metadata": {},
   "outputs": [],
   "source": []
  },
  {
   "cell_type": "code",
   "execution_count": null,
   "id": "1eb50bdd",
   "metadata": {},
   "outputs": [],
   "source": []
  },
  {
   "cell_type": "code",
   "execution_count": null,
   "id": "b8e4704d",
   "metadata": {},
   "outputs": [],
   "source": []
  },
  {
   "cell_type": "markdown",
   "id": "324380e7",
   "metadata": {},
   "source": [
    "## Question 6: Construct a matrix below ; \n",
    "\n",
    "$$\\left[\\begin{array}{ccc} 1 & 0.2 & 0.5 \\\\ 0.2 & 1 & 0.8 \\\\ 0.5 & 0.8 & 1 \\end{array}\\right]$$\n",
    "\n",
    "as a NumPy array.\n",
    "\n",
    "\n",
    "(a). Compute an Inversion of the matrix **Transpose** \n",
    "\n",
    "(b). Computer the **determinant** of the matrix if possible "
   ]
  },
  {
   "cell_type": "code",
   "execution_count": 6,
   "id": "16595d0a",
   "metadata": {},
   "outputs": [
    {
     "name": "stdout",
     "output_type": "stream",
     "text": [
      "[[1.  0.2 0.5]\n",
      " [0.2 1.  0.8]\n",
      " [0.5 0.8 1. ]]\n",
      "......................\n",
      "[[  5.39130435   8.69565217 -11.13043478]\n",
      " [  8.69565217  20.65217391 -23.91304348]\n",
      " [-11.13043478 -23.91304348  28.86956522]]\n",
      "......................\n",
      "0.2299999999999999\n"
     ]
    }
   ],
   "source": [
    "x = np.array([[1,0.2,0.5],[0.2,1,0.8],[0.5,0.8,1]])\n",
    "print(x)\n",
    "print(\"......................\")\n",
    "\n",
    "#(a)\n",
    "xTx = np.dot(x.T,x) #multiplying the matrix with its transpose\n",
    "print(np.linalg.inv(xTx)) #finding the inverse\n",
    "\n",
    "print(\"......................\")\n",
    "\n",
    "#(b)\n",
    "y = np.linalg.det(x) #allows a determinant to be calculated because it is a square matrix\n",
    "print(y)"
   ]
  },
  {
   "cell_type": "code",
   "execution_count": null,
   "id": "38fdcd60",
   "metadata": {},
   "outputs": [],
   "source": []
  },
  {
   "cell_type": "markdown",
   "id": "13b15593",
   "metadata": {},
   "source": [
    "## Optional Section: Attempting these extra questions yields extra marks as indicated in the brackets"
   ]
  },
  {
   "cell_type": "markdown",
   "id": "582be06c",
   "metadata": {},
   "source": [
    "## 7. Compute the Mean, variance, median, mode of a uniform random variable (10 marks)"
   ]
  },
  {
   "cell_type": "code",
   "execution_count": 4,
   "id": "03ea6f1e",
   "metadata": {},
   "outputs": [
    {
     "name": "stdout",
     "output_type": "stream",
     "text": [
      "[-3.6826338   4.97587609 -4.00242169 -1.70159741  2.60424507 -0.80604247\n",
      "  4.15310452  4.64774186  2.69393019  2.84263594]\n",
      "......................\n",
      "1.1724838294779452\n",
      "......................\n",
      "10.510818179346451\n",
      "......................\n",
      "2.6490876290444336\n",
      "......................\n",
      "ModeResult(mode=array([-4.00242169]), count=array([1]))\n"
     ]
    }
   ],
   "source": [
    "uni = np.random.uniform(-5, 5, 10)\n",
    "print(uni)\n",
    "print(\"......................\")\n",
    "\n",
    "print(np.mean(uni))  #mean\n",
    "print(\"......................\")\n",
    "\n",
    "print(np.var(uni))  #variance\n",
    "print(\"......................\")\n",
    "\n",
    "print(np.median(uni))  #median\n",
    "print(\"......................\")\n",
    "\n",
    "print(stats.mode(uni))  #mode"
   ]
  },
  {
   "cell_type": "markdown",
   "id": "2b1b6842",
   "metadata": {},
   "source": [
    "## GOOD LUCK "
   ]
  },
  {
   "cell_type": "code",
   "execution_count": null,
   "id": "151d25c9",
   "metadata": {},
   "outputs": [],
   "source": []
  }
 ],
 "metadata": {
  "kernelspec": {
   "display_name": "Python 3 (ipykernel)",
   "language": "python",
   "name": "python3"
  },
  "language_info": {
   "codemirror_mode": {
    "name": "ipython",
    "version": 3
   },
   "file_extension": ".py",
   "mimetype": "text/x-python",
   "name": "python",
   "nbconvert_exporter": "python",
   "pygments_lexer": "ipython3",
   "version": "3.10.5"
  },
  "vscode": {
   "interpreter": {
    "hash": "ba37d69516b96b2df66115ef342e83722e1a1518f5d2e0ee41eb08141fa2fe2a"
   }
  }
 },
 "nbformat": 4,
 "nbformat_minor": 5
}
